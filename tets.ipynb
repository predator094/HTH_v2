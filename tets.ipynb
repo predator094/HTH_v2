{
 "cells": [
  {
   "cell_type": "code",
   "execution_count": 1,
   "metadata": {},
   "outputs": [],
   "source": [
    "import firebase_admin\n",
    "from firebase_admin import credentials, storage, firestore\n",
    "import json\n",
    "import datetime\n",
    "import mimetypes\n",
    "import pytz\n",
    "import yaml\n",
    "config = yaml.safe_load(open(\"config.yaml\"))    \n",
    "\n",
    "# Initialize Firebase Admin SDK\n",
    "if not firebase_admin._apps:\n",
    "    key_dict = json.loads(config[\"textkey\"])\n",
    "    # Use credentials.Certificate instead of Credentials.from_service_account_info\n",
    "    cred = credentials.Certificate(key_dict)\n",
    "    firebase_admin.initialize_app(\n",
    "        cred, {\"storageBucket\": \"hth-project-10dec.appspot.com\"}\n",
    "    )\n",
    "\n",
    "# Reference to the default storage bucket\n",
    "bucket = storage.bucket(\"hth-project-10dec.appspot.com\")\n",
    "# Reference to Firestore database\n",
    "db = firestore.client()\n",
    "\n",
    "\n",
    "    "
   ]
  },
  {
   "cell_type": "code",
   "execution_count": 2,
   "metadata": {},
   "outputs": [],
   "source": [
    "def upload_folder_to_firestore(folder_name):\n",
    "    # Add folder entry to Firestore\n",
    "    current_time = datetime.datetime.now(pytz.utc)\n",
    "    doc_ref = db.collection(\"folders\").document(folder_name)\n",
    "    doc_ref.set(\n",
    "        {\n",
    "            \"upload_time\": current_time,\n",
    "        }\n",
    "    )\n"
   ]
  },
  {
   "cell_type": "code",
   "execution_count": 3,
   "metadata": {},
   "outputs": [
    {
     "data": {
      "text/plain": [
       "'677125'"
      ]
     },
     "execution_count": 3,
     "metadata": {},
     "output_type": "execute_result"
    }
   ],
   "source": [
    "from utils import generate_password_and_folder_name\n",
    "\n",
    "def upload_file_to_storage(files):\n",
    "    try:\n",
    "        password, folder_name = generate_password_and_folder_name()\n",
    "        for f in files:\n",
    "            file = open(f, \"rb\")\n",
    "            mime_type, _ = mimetypes.guess_type(file.name)\n",
    "            upload_folder_to_firestore(folder_name)\n",
    "            blob = bucket.blob(f\"{folder_name}/{file.name}\")\n",
    "            blob.upload_from_file(file, content_type=mime_type)\n",
    "            return password\n",
    "    except Exception as e:\n",
    "        print(e)\n",
    "        return \"Error occurred while uploading the file\"\n",
    "password = upload_file_to_storage([\"requirements.txt\"])\n",
    "password\n"
   ]
  },
  {
   "cell_type": "code",
   "execution_count": null,
   "metadata": {},
   "outputs": [
    {
     "name": "stdout",
     "output_type": "stream",
     "text": [
      "folder_c0dff39c19bfbba80e68840d2d86b596\n",
      "[<Blob: hth-project-10dec.appspot.com, folder_c0dff39c19bfbba80e68840d2d86b596/requirements.txt, 1741684925233886>]\n",
      "['STORAGE_CLASSES', '_CHUNK_SIZE_MULTIPLE', '__class__', '__delattr__', '__dict__', '__dir__', '__doc__', '__eq__', '__format__', '__ge__', '__getattribute__', '__getstate__', '__gt__', '__hash__', '__init__', '__init_subclass__', '__le__', '__lt__', '__module__', '__ne__', '__new__', '__reduce__', '__reduce_ex__', '__repr__', '__setattr__', '__sizeof__', '__str__', '__subclasshook__', '__weakref__', '_acl', '_bucket', '_changes', '_chunk_size', '_do_download', '_do_multipart_upload', '_do_resumable_upload', '_do_upload', '_encryption_headers', '_encryption_key', '_extract_headers_from_download', '_get_content_type', '_get_download_url', '_get_transport', '_get_upload_arguments', '_get_writable_metadata', '_handle_filename_and_download', '_handle_filename_and_upload', '_initiate_resumable_upload', '_patch_property', '_prep_and_do_download', '_prep_and_do_upload', '_properties', '_query_params', '_require_client', '_set_properties', 'acl', 'bucket', 'cache_control', 'chunk_size', 'client', 'component_count', 'compose', 'content_disposition', 'content_encoding', 'content_language', 'content_type', 'crc32c', 'create_resumable_upload_session', 'custom_time', 'delete', 'download_as_bytes', 'download_as_string', 'download_as_text', 'download_to_file', 'download_to_filename', 'encryption_key', 'etag', 'event_based_hold', 'exists', 'from_string', 'from_uri', 'generate_signed_url', 'generation', 'get_iam_policy', 'hard_delete_time', 'id', 'kms_key_name', 'make_private', 'make_public', 'md5_hash', 'media_link', 'metadata', 'metageneration', 'name', 'open', 'owner', 'patch', 'path', 'path_helper', 'public_url', 'reload', 'retention', 'retention_expiration_time', 'rewrite', 'self_link', 'set_iam_policy', 'size', 'soft_delete_time', 'storage_class', 'temporary_hold', 'test_iam_permissions', 'time_created', 'time_deleted', 'update', 'update_storage_class', 'updated', 'upload_from_file', 'upload_from_filename', 'upload_from_string', 'user_project']\n"
     ]
    },
    {
     "data": {
      "text/plain": [
       "['C:\\\\Users\\\\preda\\\\AppData\\\\Local\\\\Temp\\\\tmp6o_o30ca\\\\requirements.txt']"
      ]
     },
     "execution_count": 24,
     "metadata": {},
     "output_type": "execute_result"
    }
   ],
   "source": [
    "import tempfile\n",
    "import os \n",
    "def download_file(passowrd):\n",
    "    try:\n",
    "        folder_name=generate_password_and_folder_name(passowrd)\n",
    "        files = list(bucket.list_blobs(prefix=folder_name))\n",
    "        file_paths=[]\n",
    "        for file in files:\n",
    "\n",
    "            blob = bucket.blob(file.name)\n",
    "            with tempfile.TemporaryDirectory() as temp_dir:\n",
    "                temp_file_path = os.path.join(temp_dir, os.path.basename(file.name))  # Save with original filename\n",
    "                blob.download_to_filename(temp_file_path)\n",
    "                file_paths.append(temp_file_path)\n",
    "                blob.delete()\n",
    "                folders_ref = db.collection(\"folders\")\n",
    "                folder = folders_ref.documentz(folder_name)\n",
    "                folder.delete()\n",
    "        return file_paths\n",
    "\n",
    "    except Exception as e:\n",
    "        print(e)\n",
    "        return \"Error occurred while downloading the file\"\n",
    "download_file(password)"
   ]
  },
  {
   "cell_type": "code",
   "execution_count": 26,
   "metadata": {},
   "outputs": [
    {
     "ename": "IndexError",
     "evalue": "list index out of range",
     "output_type": "error",
     "traceback": [
      "\u001b[1;31m---------------------------------------------------------------------------\u001b[0m",
      "\u001b[1;31mIndexError\u001b[0m                                Traceback (most recent call last)",
      "Cell \u001b[1;32mIn[26], line 2\u001b[0m\n\u001b[0;32m      1\u001b[0m files \u001b[38;5;241m=\u001b[39m \u001b[38;5;28mlist\u001b[39m(bucket\u001b[38;5;241m.\u001b[39mlist_blobs(prefix\u001b[38;5;241m=\u001b[39m\u001b[38;5;124m\"\u001b[39m\u001b[38;5;124mfolder_c0dff39c19bfbba80e68840d2d86b596\u001b[39m\u001b[38;5;124m\"\u001b[39m))\n\u001b[1;32m----> 2\u001b[0m \u001b[38;5;28mdir\u001b[39m(\u001b[43mfiles\u001b[49m\u001b[43m[\u001b[49m\u001b[38;5;241;43m0\u001b[39;49m\u001b[43m]\u001b[49m)\n",
      "\u001b[1;31mIndexError\u001b[0m: list index out of range"
     ]
    }
   ],
   "source": [
    "files = list(bucket.list_blobs(prefix=\"folder_c0dff39c19bfbba80e68840d2d86b596\"))\n",
    "dir(files[0])"
   ]
  },
  {
   "cell_type": "code",
   "execution_count": null,
   "metadata": {},
   "outputs": [
    {
     "name": "stdout",
     "output_type": "stream",
     "text": [
      "Current time: 2025-03-11 10:56:13.596927+00:00\n"
     ]
    },
    {
     "data": {
      "text/plain": [
       "DatetimeWithNanoseconds(2025, 3, 11, 10, 56, 14, 409541, tzinfo=datetime.timezone.utc)"
      ]
     },
     "execution_count": 37,
     "metadata": {},
     "output_type": "execute_result"
    }
   ],
   "source": [
    "folders_ref = db.collection(\"folders\")\n",
    "folder = folders_ref.document(\"folder_96b90942b28cc798a3f53473728b50bb\")\n",
    "folder.delete()\n",
    "# for folder in folders:\n",
    "#     print(folder.id)\n",
    "#     print(dir(folder))\n",
    "#     folder_ref=folders_ref.document(folder.id)\n",
    "#         print(\"Deleting folder\")\n",
    "#         folder_ref.delete()\n"
   ]
  },
  {
   "cell_type": "code",
   "execution_count": 25,
   "metadata": {},
   "outputs": [],
   "source": [
    "files[0].delete()"
   ]
  },
  {
   "cell_type": "code",
   "execution_count": 13,
   "metadata": {},
   "outputs": [
    {
     "name": "stdout",
     "output_type": "stream",
     "text": [
      "* Running on local URL:  http://127.0.0.1:7861\n",
      "\n",
      "To create a public link, set `share=True` in `launch()`.\n"
     ]
    },
    {
     "data": {
      "text/html": [
       "<div><iframe src=\"http://127.0.0.1:7861/\" width=\"100%\" height=\"500\" allow=\"autoplay; camera; microphone; clipboard-read; clipboard-write;\" frameborder=\"0\" allowfullscreen></iframe></div>"
      ],
      "text/plain": [
       "<IPython.core.display.HTML object>"
      ]
     },
     "metadata": {},
     "output_type": "display_data"
    }
   ],
   "source": [
    "import gradio as gr    \n",
    "import shutil    \n",
    "import os    \n",
    "\n",
    "def upload_file(file):    \n",
    "    UPLOAD_FOLDER = \"./data\"    \n",
    "    if not os.path.exists(UPLOAD_FOLDER):    \n",
    "        os.mkdir(UPLOAD_FOLDER)    \n",
    "    shutil.copy(file, UPLOAD_FOLDER)    \n",
    "    gr.Info(\"File Uploaded!!!\")    \n",
    "\n",
    "with gr.Blocks() as demo:    \n",
    "    gr.Markdown(    \n",
    "        \"\"\"    \n",
    "        # Welcome to MyApp    \n",
    "        \"\"\")    \n",
    "    upload_button = gr.UploadButton(\"Click to Upload a File\")    \n",
    "    upload_button.upload(upload_file, upload_button)    \n",
    "\n",
    "if __name__ == \"__main__\":    \n",
    "    demo.launch() "
   ]
  },
  {
   "cell_type": "code",
   "execution_count": 20,
   "metadata": {},
   "outputs": [
    {
     "name": "stderr",
     "output_type": "stream",
     "text": [
      "ERROR:    [Errno 10048] error while attempting to bind on address ('0.0.0.0', 7863): only one usage of each socket address (protocol/network address/port) is normally permitted\n",
      "ERROR:    [Errno 10048] error while attempting to bind on address ('0.0.0.0', 7864): only one usage of each socket address (protocol/network address/port) is normally permitted\n"
     ]
    },
    {
     "name": "stdout",
     "output_type": "stream",
     "text": [
      "* Running on local URL:  http://0.0.0.0:7865\n",
      "\n",
      "To create a public link, set `share=True` in `launch()`.\n"
     ]
    },
    {
     "data": {
      "text/html": [
       "<div><iframe src=\"http://localhost:7865/\" width=\"100%\" height=\"500\" allow=\"autoplay; camera; microphone; clipboard-read; clipboard-write;\" frameborder=\"0\" allowfullscreen></iframe></div>"
      ],
      "text/plain": [
       "<IPython.core.display.HTML object>"
      ]
     },
     "metadata": {},
     "output_type": "display_data"
    },
    {
     "data": {
      "text/plain": []
     },
     "execution_count": 20,
     "metadata": {},
     "output_type": "execute_result"
    },
    {
     "name": "stdout",
     "output_type": "stream",
     "text": [
      "C:\\Users\\preda\\AppData\\Local\\Temp\\gradio\\ff379702b5acea643c4139d65096699eba44529812d5568ebc60fbf180f18b3f\\DALLE 2025-03-09 02.13.47 - A minimalist 2D line-art illustration representing the latest advancements in Medical AI and LLMs. The image features a futuristic digital interface .webp ['__add__', '__class__', '__contains__', '__delattr__', '__dict__', '__dir__', '__doc__', '__eq__', '__format__', '__ge__', '__getattribute__', '__getitem__', '__getnewargs__', '__getstate__', '__gt__', '__hash__', '__init__', '__init_subclass__', '__iter__', '__le__', '__len__', '__lt__', '__mod__', '__module__', '__mul__', '__ne__', '__new__', '__reduce__', '__reduce_ex__', '__repr__', '__rmod__', '__rmul__', '__setattr__', '__sizeof__', '__str__', '__subclasshook__', '__weakref__', 'capitalize', 'casefold', 'center', 'count', 'encode', 'endswith', 'expandtabs', 'find', 'format', 'format_map', 'index', 'isalnum', 'isalpha', 'isascii', 'isdecimal', 'isdigit', 'isidentifier', 'islower', 'isnumeric', 'isprintable', 'isspace', 'istitle', 'isupper', 'join', 'ljust', 'lower', 'lstrip', 'maketrans', 'name', 'partition', 'removeprefix', 'removesuffix', 'replace', 'rfind', 'rindex', 'rjust', 'rpartition', 'rsplit', 'rstrip', 'split', 'splitlines', 'startswith', 'strip', 'swapcase', 'title', 'translate', 'upper', 'zfill']\n",
      "[Errno 2] No such file or directory: 'C'\n"
     ]
    }
   ],
   "source": [
    "import gradio as gr\n",
    "\n",
    "def process_file(fileobj): \n",
    "    file_path = fileobj.name \n",
    "    print(file_path,dir(fileobj))\n",
    "    return upload_file_to_storage(file_path)\n",
    "\n",
    "demo = gr.Interface(\n",
    "    fn=process_file,\n",
    "    inputs=[\n",
    "        \"file\",\n",
    "    ],\n",
    "    outputs=\"text\"\n",
    ")\n",
    "\n",
    "demo.launch(server_name='0.0.0.0')"
   ]
  },
  {
   "cell_type": "code",
   "execution_count": null,
   "metadata": {},
   "outputs": [],
   "source": []
  }
 ],
 "metadata": {
  "kernelspec": {
   "display_name": "fyp",
   "language": "python",
   "name": "python3"
  },
  "language_info": {
   "codemirror_mode": {
    "name": "ipython",
    "version": 3
   },
   "file_extension": ".py",
   "mimetype": "text/x-python",
   "name": "python",
   "nbconvert_exporter": "python",
   "pygments_lexer": "ipython3",
   "version": "3.11.0"
  }
 },
 "nbformat": 4,
 "nbformat_minor": 2
}
